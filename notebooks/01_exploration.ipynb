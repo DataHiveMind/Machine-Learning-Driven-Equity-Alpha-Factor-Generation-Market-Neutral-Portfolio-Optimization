{
 "cells": [
  {
   "cell_type": "markdown",
   "metadata": {},
   "source": [
    "# Data Exploration Notebook\n",
    "\n",
    "This notebook covers the initial exploration of financial data for alpha factor generation and portfolio optimization.\n",
    "\n",
    "## What it covers:\n",
    "\n",
    "1. Pulling historical price and fundamentals data from OpenBB for your chosen universe.\n",
    "2. Inspecting coverage: date ranges, missing values, ticker consistency.\n",
    "3. Basic descriptive stats: average returns, volatility, sector breakdown.\n",
    "4. Visual checks: price charts, return histograms, correlation heatmaps."
   ]
  },
  {
   "cell_type": "code",
   "execution_count": null,
   "metadata": {},
   "outputs": [],
   "source": [
    "# Import necessary libraries\n",
    "import pandas as pd\n",
    "import numpy as np\n",
    "import matplotlib.pyplot as plt\n",
    "import seaborn as sns\n",
    "import sys\n",
    "import os\n",
    "from openbb import obb\n",
    "\n",
    "# Add src to path\n",
    "sys.path.append(os.path.abspath(os.path.join(os.getcwd(), '..')))\n",
    "\n",
    "# Import src functions\n",
    "from src.data.loaders import get_equity_data\n",
    "from src.features.fundamental import compute_financial_ratios\n",
    "from src.features.technical import add_returns_column\n",
    "\n",
    "# Set plotting style\n",
    "sns.set_style('whitegrid')\n",
    "plt.rcParams['figure.figsize'] = (12, 8)"
   ]
  },
  {
   "cell_type": "markdown",
   "metadata": {},
   "source": [
    "## 1. Pulling historical price and fundamentals data from OpenBB for your chosen universe."
   ]
  },
  {
   "cell_type": "code",
   "execution_count": null,
   "metadata": {},
   "outputs": [],
   "source": [
    "# Define the investment universe (example: large-cap US stocks)\n",
    "universe = ['AAPL', 'MSFT', 'GOOGL', 'AMZN', 'TSLA', 'NVDA', 'META', 'NFLX']\n",
    "start_date = '2020-01-01'\n",
    "\n",
    "# Pull historical price data for each ticker\n",
    "price_data = {}\n",
    "for ticker in universe:\n",
    "    df = get_equity_data(ticker, start_date)\n",
    "    if not df.empty:\n",
    "        price_data[ticker] = df\n",
    "        print(f\"Pulled price data for {ticker}: {len(df)} rows\")\n",
    "    else:\n",
    "        print(f\"Failed to pull price data for {ticker}\")\n",
    "\n",
    "# Combine price data into a single DataFrame with multi-index\n",
    "if price_data:\n",
    "    combined_prices = pd.concat(price_data, axis=0, keys=price_data.keys())\n",
    "    combined_prices.index.names = ['Ticker', 'Date']\n",
    "    print(f\"Combined price data shape: {combined_prices.shape}\")\n",
    "    print(combined_prices.head())\n",
    "else:\n",
    "    print(\"No price data pulled.\")"
   ]
  },
  {
   "cell_type": "code",
   "execution_count": null,
   "metadata": {},
   "outputs": [],
   "source": [
    "# Pull fundamentals data (example: balance sheet data)\n",
    "fundamentals_data = {}\n",
    "for ticker in universe:\n",
    "    try:\n",
    "        data = obb.equity.fundamentals.balance_sheet(ticker, provider=\"yfinance\")\n",
    "        df = data.to_df()\n",
    "        if not df.empty:\n",
    "            fundamentals_data[ticker] = df\n",
    "            print(f\"Pulled fundamentals for {ticker}: {df.shape}\")\n",
    "        else:\n",
    "            print(f\"No fundamentals data for {ticker}\")\n",
    "    except Exception as e:\n",
    "        print(f\"Error pulling fundamentals for {ticker}: {e}\")\n",
    "\n",
    "# For simplicity, we'll use the latest fundamentals data\n",
    "latest_fundamentals = {}\n",
    "for ticker, df in fundamentals_data.items():\n",
    "    if not df.empty:\n",
    "        latest = df.iloc[-1]  # Latest available data\n",
    "        latest_fundamentals[ticker] = latest\n",
    "\n",
    "fundamentals_df = pd.DataFrame.from_dict(latest_fundamentals, orient='index')\n",
    "print(f\"Fundamentals data shape: {fundamentals_df.shape}\")\n",
    "print(fundamentals_df.head())"
   ]
  },
  {
   "cell_type": "code",
   "execution_count": null,
   "metadata": {},
   "outputs": [],
   "source": [
    "# Compute financial ratios using src/features/fundamental.py\n",
    "# Note: This assumes fundamentals_df has columns like 'Price', 'Earnings', etc.\n",
    "# In practice, you may need to map OpenBB columns to expected names.\n",
    "# For demonstration, we'll create a sample mapping.\n",
    "\n",
    "# Assuming fundamentals_df has relevant columns; if not, this will need adjustment\n",
    "if not fundamentals_df.empty:\n",
    "    # Add price data to fundamentals (using latest close price)\n",
    "    for ticker in fundamentals_df.index:\n",
    "        if ticker in price_data and not price_data[ticker].empty:\n",
    "            latest_price = price_data[ticker]['Close'].iloc[-1]\n",
    "            fundamentals_df.loc[ticker, 'Price'] = latest_price\n",
    "    \n",
    "    # Rename columns to match expected names (this is illustrative)\n",
    "    column_mapping = {\n",
    "        'Total Assets': 'BookValue',  # Approximate\n",
    "        'Net Income': 'Earnings',\n",
    "        'Total Debt': 'Debt',\n",
    "        'Total Equity': 'Equity',\n",
    "        'Market Capitalization': 'MarketCap'\n",
    "    }\n",
    "    fundamentals_df = fundamentals_df.rename(columns=column_mapping)\n",
    "    \n",
    "    # Compute ratios\n",
    "    ratios_df = compute_financial_ratios(fundamentals_df)\n",
    "    print(\"Computed financial ratios:\")\n",
    "    print(ratios_df[['P/E', 'P/B', 'D/E']].head())\n",
    "else:\n",
    "    print(\"No fundamentals data to compute ratios.\")"
   ]
  },
  {
   "cell_type": "markdown",
   "metadata": {},
   "source": [
    "## 2. Inspecting coverage: date ranges, missing values, ticker consistency."
   ]
  },
  {
   "cell_type": "code",
   "execution_count": null,
   "metadata": {},
   "outputs": [],
   "source": [
    "# Inspect date ranges for each ticker\n",
    "print(\"Date range coverage:\")\n",
    "for ticker, df in price_data.items():\n",
    "    if not df.empty:\n",
    "        start = df.index.min()\n",
    "        end = df.index.max()\n",
    "        count = len(df)\n",
    "        print(f\"{ticker}: {start} to {end} ({count} observations)\")\n",
    "    else:\n",
    "        print(f\"{ticker}: No data\")\n",
    "\n",
    "# Check for missing values\n",
    "print(\"\\nMissing values summary:\")\n",
    "if 'combined_prices' in locals():\n",
    "    missing_summary = combined_prices.isnull().sum()\n",
    "    print(missing_summary)\n",
    "    \n",
    "    # Percentage of missing values\n",
    "    missing_pct = (missing_summary / len(combined_prices)) * 100\n",
    "    print(\"\\nMissing values percentage:\")\n",
    "    print(missing_pct)\n",
    "\n",
    "# Ticker consistency check\n",
    "print(\"\\nTicker consistency:\")\n",
    "tickers_with_data = [ticker for ticker, df in price_data.items() if not df.empty]\n",
    "print(f\"Tickers with data: {tickers_with_data}\")\n",
    "print(f\"Total tickers in universe: {len(universe)}\")\n",
    "print(f\"Tickers with data: {len(tickers_with_data)}\")"
   ]
  },
  {
   "cell_type": "markdown",
   "metadata": {},
   "source": [
    "## 3. Basic descriptive stats: average returns, volatility, sector breakdown."
   ]
  },
  {
   "cell_type": "code",
   "execution_count": null,
   "metadata": {},
   "outputs": [],
   "source": [
    "# Compute returns using src/features/technical.py\n",
    "returns_data = {}\n",
    "for ticker, df in price_data.items():\n",
    "    if not df.empty:\n",
    "        df_with_returns = add_returns_column(df.copy())\n",
    "        returns_data[ticker] = df_with_returns\n",
    "\n",
    "# Combine returns\n",
    "if returns_data:\n",
    "    combined_returns = pd.concat({ticker: df['Returns'] for ticker, df in returns_data.items()}, axis=1)\n",
    "    combined_returns.columns = returns_data.keys()\n",
    "    \n",
    "    # Basic stats\n",
    "    print(\"Average daily returns:\")\n",
    "    avg_returns = combined_returns.mean()\n",
    "    print(avg_returns)\n",
    "    \n",
    "    print(\"\\nAnnualized volatility (assuming 252 trading days):\")\n",
    "    volatility = combined_returns.std() * np.sqrt(252)\n",
    "    print(volatility)\n",
    "    \n",
    "    print(\"\\nDescriptive statistics:\")\n",
    "    print(combined_returns.describe())\n",
    "else:\n",
    "    print(\"No returns data to analyze.\")"
   ]
  },
  {
   "cell_type": "code",
   "execution_count": null,
   "metadata": {},
   "outputs": [],
   "source": [
    "# Sector breakdown\n",
    "# Pull sector information using OpenBB\n",
    "sector_data = {}\n",
    "for ticker in universe:\n",
    "    try:\n",
    "        profile = obb.equity.profile(ticker, provider=\"yfinance\")\n",
    "        sector = profile.to_df().get('sector', 'Unknown')\n",
    "        if isinstance(sector, pd.Series):\n",
    "            sector = sector.iloc[0] if not sector.empty else 'Unknown'\n",
    "        sector_data[ticker] = sector\n",
    "    except Exception as e:\n",
    "        sector_data[ticker] = 'Unknown'\n",
    "        print(f\"Error getting sector for {ticker}: {e}\")\n",
    "\n",
    "sector_df = pd.DataFrame.from_dict(sector_data, orient='index', columns=['Sector'])\n",
    "print(\"Sector breakdown:\")\n",
    "sector_counts = sector_df['Sector'].value_counts()\n",
    "print(sector_counts)\n",
    "\n",
    "# Plot sector breakdown\n",
    "plt.figure(figsize=(10, 6))\n",
    "sector_counts.plot(kind='bar')\n",
    "plt.title('Sector Breakdown of Universe')\n",
    "plt.xlabel('Sector')\n",
    "plt.ylabel('Number of Stocks')\n",
    "plt.xticks(rotation=45)\n",
    "plt.tight_layout()\n",
    "plt.show()"
   ]
  },
  {
   "cell_type": "markdown",
   "metadata": {},
   "source": [
    "## 4. Visual checks: price charts, return histograms, correlation heatmaps."
   ]
  },
  {
   "cell_type": "code",
   "execution_count": null,
   "metadata": {},
   "outputs": [],
   "source": [
    "# Price charts\n",
    "plt.figure(figsize=(14, 8))\n",
    "for ticker, df in price_data.items():\n",
    "    if not df.empty:\n",
    "        plt.plot(df.index, df['Close'], label=ticker)\n",
    "plt.title('Historical Price Charts')\n",
    "plt.xlabel('Date')\n",
    "plt.ylabel('Close Price')\n",
    "plt.legend()\n",
    "plt.show()"
   ]
  },
  {
   "cell_type": "code",
   "execution_count": null,
   "metadata": {},
   "outputs": [],
   "source": [
    "# Return histograms\n",
    "if 'combined_returns' in locals():\n",
    "    plt.figure(figsize=(12, 8))\n",
    "    for column in combined_returns.columns:\n",
    "        plt.hist(combined_returns[column].dropna(), bins=50, alpha=0.5, label=column)\n",
    "    plt.title('Return Histograms')\n",
    "    plt.xlabel('Daily Return')\n",
    "    plt.ylabel('Frequency')\n",
    "    plt.legend()\n",
    "    plt.show()\n",
    "else:\n",
    "    print(\"No returns data for histograms.\")"
   ]
  },
  {
   "cell_type": "code",
   "execution_count": null,
   "metadata": {},
   "outputs": [],
   "source": [
    "# Correlation heatmap\n",
    "if 'combined_returns' in locals():\n",
    "    correlation_matrix = combined_returns.corr()\n",
    "    plt.figure(figsize=(10, 8))\n",
    "    sns.heatmap(correlation_matrix, annot=True, cmap='coolwarm', vmin=-1, vmax=1, center=0)\n",
    "    plt.title('Return Correlation Heatmap')\n",
    "    plt.show()\n",
    "else:\n",
    "    print(\"No returns data for correlation heatmap.\")"
   ]
  }
 ],
 "metadata": {
  "kernelspec": {
   "display_name": "Python 3",
   "language": "python",
   "name": "python3"
  },
  "language_info": {
   "codemirror_mode": {
    "name": "ipython",
    "version": 3
   },
   "file_extension": ".py",
   "mimetype": "text/x-python",
   "name": "python",
   "nbconvert_exporter": "python",
   "pygments_lexer": "ipython3",
   "version": "3.8.5"
  }
 },
 "nbformat": 4,
 "nbformat_minor": 4
}
