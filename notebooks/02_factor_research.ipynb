{
 "cells": [
  {
   "cell_type": "markdown",
   "id": "8ab7966b",
   "metadata": {},
   "source": [
    "# Factor Research Notebook\n",
    "\n",
    "# What it covers:\n",
    "\n",
    "1.  Computing technical factors (momentum, volatility, RSI) and fundamental factors (value, quality, growth) from the processed data.\n",
    "\n",
    "2.  Applying standardization, winsorization, and sector/beta neutralization.\n",
    "\n",
    "3.  Cross‑sectional correlation analysis between factors to check redundancy.\n",
    "\n",
    "4.  Factor performance tests: Information Coefficient (IC), Rank IC, and decay over multiple horizons.\n",
    "\n",
    "5.  Selecting a subset of factors for modeling based on stability and predictive power."
   ]
  },
  {
   "cell_type": "code",
   "execution_count": null,
   "id": "eace231c",
   "metadata": {},
   "outputs": [],
   "source": []
  },
  {
   "cell_type": "code",
   "execution_count": null,
   "id": "28f7c7c6",
   "metadata": {},
   "outputs": [],
   "source": []
  }
 ],
 "metadata": {
  "kernelspec": {
   "display_name": "Python 3",
   "language": "python",
   "name": "python3"
  },
  "language_info": {
   "name": "python",
   "version": "3.12.1"
  }
 },
 "nbformat": 4,
 "nbformat_minor": 5
}
